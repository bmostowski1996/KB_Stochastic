{
 "cells": [
  {
   "cell_type": "markdown",
   "metadata": {},
   "source": [
    "# Notice"
   ]
  },
  {
   "cell_type": "markdown",
   "metadata": {},
   "source": [
    "This .ipynb file contains dependencies for another notebook which is used to run simulations of the Kyle-Back Insider Trading model and also options pricing/IV curve fitting within said model.\n",
    "\n",
    "Usage:\n",
    "1. Open kyleback.ipynb and dependencies.ipynb\n",
    "2. Download this file as a .py file\n",
    "3. Place the .py file in the same folder as kyleback.ipynb\n",
    "4. Run kyleback.ipynb normally"
   ]
  },
  {
   "cell_type": "markdown",
   "metadata": {},
   "source": [
    "# Packages"
   ]
  },
  {
   "cell_type": "code",
   "execution_count": 26,
   "metadata": {},
   "outputs": [],
   "source": [
    "import numpy as np\n",
    "from scipy.stats import norm\n",
    "import matplotlib.pyplot as plt"
   ]
  },
  {
   "cell_type": "markdown",
   "metadata": {},
   "source": [
    "# Black-Scholes European Option Formulas:"
   ]
  },
  {
   "cell_type": "code",
   "execution_count": 3,
   "metadata": {},
   "outputs": [],
   "source": [
    "np.seterr(all='warn')\n",
    "\n",
    "def dee(T, K, r, sigma, S_0, pm):\n",
    "    if pm == True:\n",
    "        try:\n",
    "            val = (np.log(S_0/K) + (r+(sigma**2/2))*T)/(sigma*np.sqrt(T))\n",
    "        except OverflowError:\n",
    "            if (np.log(S_0/K) + (r+(sigma**2/2))*T) > 0:\n",
    "                val = np.inf\n",
    "            else:\n",
    "                val = -1*np.inf\n",
    "    else:\n",
    "        try:\n",
    "            val = (np.log(S_0/K) + (r-(sigma**2/2))*T)/(sigma*np.sqrt(T))\n",
    "        except OverflowError:\n",
    "            if (np.log(S_0/K) + (r+(sigma**2/2))*T) > 0:\n",
    "                val = np.inf\n",
    "            else:\n",
    "                val = -1*np.inf\n",
    "    #print(val)\n",
    "    return val\n",
    "\n",
    "def BlackScholesMerton(T, K, r, sigma, S_0, option_type):\n",
    "    try:\n",
    "        d_up = dee(T,K,r,sigma,S_0,True)\n",
    "        d_down = dee(T,K,r,sigma,S_0,False)\n",
    "        val = 0\n",
    "\n",
    "        if option_type == \"call\":\n",
    "            val = S_0*norm.cdf(d_up) - K*np.exp(-r*T)*norm.cdf(d_down)\n",
    "        elif option_type == \"covered_call\":\n",
    "            val = S_0 - (S_0*norm.cdf(d_up) - K*np.exp(-r*T)*norm.cdf(d_down))\n",
    "        else:\n",
    "            val = K*np.exp(-r*T)*norm.cdf(-1*d_down) - S_0*norm.cdf(-1*d_up)\n",
    "    except ZeroDivisionError:\n",
    "        print(\"Raised ZeroDivisionError\")\n",
    "        if option_type == \"call\":\n",
    "            val = np.maximum(S_0 - K,0)\n",
    "        elif option_type == \"covered_call\":\n",
    "            val = np.minimum(S_0,K)\n",
    "        else:\n",
    "            val = np.maximum(K - S_0,0)\n",
    "            \n",
    "    #print(val)\n",
    "    return val"
   ]
  },
  {
   "cell_type": "markdown",
   "metadata": {},
   "source": [
    "# Option Greeks"
   ]
  },
  {
   "cell_type": "markdown",
   "metadata": {},
   "source": [
    "These are formulas for quickly computing Black-Scholes greeks. Vega is useful for computing IV using Newton's method."
   ]
  },
  {
   "cell_type": "code",
   "execution_count": 5,
   "metadata": {},
   "outputs": [],
   "source": [
    "def delta(T, K, r, sigma, S_0, option_type):\n",
    "    d_up = dee(T,K,r,sigma,S_0,True)\n",
    "    if option_type == \"call\":\n",
    "        val = norm.cdf(d_up)\n",
    "    else:\n",
    "        val = norm.cdf(d_up) - 1\n",
    "    \n",
    "    if np.isnan(val):\n",
    "        val = 1\n",
    "    return val\n",
    "\n",
    "def gamma(T, K, r, sigma, S_0):\n",
    "    d_up = dee(T,K,r,sigma,S_0,True)\n",
    "    return np.exp(-r*T)*norm.pdf(d_up)/(S_0*sigma*np.sqrt(T))\n",
    "\n",
    "def theta(T, K, r, sigma, S_0, option_type):\n",
    "    d_down = dee(T,K,r,sigma,S_0,False)\n",
    "    if option_type == \"call\":\n",
    "        val = (S_0*norm.pdf(d_up)*sigma)/(2*np.sqrt(T)) - r*K*np.exp(-r*T)*norm.cdf(d_down)\n",
    "    else:\n",
    "        val = (S_0*norm.pdf(d_up)*sigma)/(2*np.sqrt(T)) + r*K*np.exp(-r*T)*norm.cdf(d_down)\n",
    "    return val\n",
    "        \n",
    "def vega(T, K, r, sigma, S_0):\n",
    "    #Determine the vega of an option with the given specifications\n",
    "    d_up = dee(T,K,r,sigma,S_0,True)\n",
    "    return np.exp(-r*T)*S_0*np.sqrt(T)*norm.pdf(d_up)\n",
    "    "
   ]
  },
  {
   "cell_type": "markdown",
   "metadata": {},
   "source": [
    "# Implied Volatility"
   ]
  },
  {
   "cell_type": "markdown",
   "metadata": {},
   "source": [
    "Here are various methods for computing the Black-Scholes implied volatilty of an option."
   ]
  },
  {
   "cell_type": "markdown",
   "metadata": {},
   "source": [
    "## Newton + Regula-Falsi"
   ]
  },
  {
   "cell_type": "markdown",
   "metadata": {},
   "source": [
    "This method needs to be worked on, it is not that well-written..."
   ]
  },
  {
   "cell_type": "code",
   "execution_count": null,
   "metadata": {},
   "outputs": [],
   "source": [
    "def impVol(option_price, T, K, r, S_0, option_type, starting_sigma, iterations):\n",
    "    #Use the closed-form BSM formula and Newton's method to estimate the implied volatility of an option\n",
    "    #with the given specifications. \n",
    "    \n",
    "    #If Newton's method stops working, use Regula Falsi method instead.\n",
    "    \n",
    "    std = starting_sigma/2\n",
    "    new_std = starting_sigma\n",
    "    \n",
    "    sup = 2*starting_sigma\n",
    "    inf = 0.25*starting_sigma\n",
    "    \n",
    "    mode = \"Newton\"\n",
    "    for i in range(iterations):\n",
    "        old_std = std\n",
    "        std = new_std\n",
    "        \n",
    "        if mode == \"Newton\":\n",
    "            #if vega(T, K, r, std, S_0) <= 0:\n",
    "                #print(\"Warning: Vega is not positive!\")\n",
    "            new_std = std - (BlackScholesMerton(T, K, r, std, S_0, option_type) - option_price)/vega(T, K, r, std, S_0)\n",
    "            if new_std > std:\n",
    "                inf = np.maximum(std, inf)\n",
    "            else:\n",
    "                sup = np.minimum(std, sup)\n",
    "            if new_std < 0:\n",
    "                mode = \"Regula Falsi\"\n",
    "                #print(\"Switching to Regula Falsi\")\n",
    "        else:\n",
    "            new_std = 0.5*(sup + inf)\n",
    "            #print(\"Testing new std: \" + str(new_std))\n",
    "            if BlackScholesMerton(T, K, r, new_std, S_0, option_type) > option_price:\n",
    "                sup = new_std\n",
    "            else:\n",
    "                inf = new_std\n",
    "        #print(\"After iteration \" + str(i) + \"  (inf, sup) = (\" + str(np.round(inf,5)) + \",\" + str(np.round(sup,5)) + \")\")\n",
    "        #print(\"After iteration \" + str(i) + \" new_std = \" + str(new_std))\n",
    "    \n",
    "    if mode == \"Newton\":\n",
    "        std = new_std\n",
    "    else:\n",
    "        std = 0.5*(sup + inf)\n",
    "    \n",
    "    return std"
   ]
  },
  {
   "cell_type": "markdown",
   "metadata": {},
   "source": [
    "## Brent's Method"
   ]
  },
  {
   "cell_type": "markdown",
   "metadata": {},
   "source": [
    "Use Brent's method to compute implied volatility. Switch to a secant method step if a Brent's method step doesn't work."
   ]
  },
  {
   "cell_type": "code",
   "execution_count": 6,
   "metadata": {},
   "outputs": [],
   "source": [
    "def threeSame(s1,s2,s3):\n",
    "    a = np.array([s1 - s2, s1 - s3, s2 - s3])\n",
    "    val = False\n",
    "    if np.shape(np.where(a == 0)[0])[0] > 0:\n",
    "        val = np.where(a == 0)[0][0]\n",
    "        #print(val)\n",
    "    return val\n",
    "\n",
    "def impVolBrent(option_price, T, K, r, S_0, option_type, starting_sigma, iterations):\n",
    "    #Use Brent's method to compute the implied volatility of an option\n",
    "    std_0 = starting_sigma/2\n",
    "    std_1 = 2*starting_sigma\n",
    "    std_2 = starting_sigma\n",
    "    \n",
    "    for i in range(iterations):\n",
    "        \n",
    "        if threeSame(std_0, std_1, std_2) == False:\n",
    "            g_0 = np.double(BlackScholesMerton(T, K, r, std_0, S_0, option_type) - option_price)\n",
    "            g_1 = np.double(BlackScholesMerton(T, K, r, std_1, S_0, option_type) - option_price)\n",
    "            g_2 = np.double(BlackScholesMerton(T, K, r, std_2, S_0, option_type) - option_price)\n",
    "\n",
    "            sum_0 = (std_2*g_1*g_0)/((g_2 - g_1)*(g_2 - g_0))\n",
    "            sum_1 = (std_1*g_0*g_2)/((g_1 - g_0)*(g_1 - g_2))\n",
    "            sum_2 = (std_0*g_1*g_2)/((g_0 - g_1)*(g_0 - g_2))\n",
    "\n",
    "            new_std = sum_0 + sum_1 + sum_2\n",
    "            \n",
    "        elif threeSame(std_0, std_1, std_2) == 0 or threeSame(std_0, std_1, std_2) == 2:\n",
    "            print(\"Warning! Two or more points are the same!\")\n",
    "            g_0 = BlackScholesMerton(T, K, r, std_0, S_0, option_type) - option_price\n",
    "            g_1 = BlackScholesMerton(T, K, r, std_2, S_0, option_type) - option_price\n",
    "            new_std = std_2 - g_0*(std_2 - std_0)/(g_1 - g_0)\n",
    "        elif threeSame(std_0, std_1, std_2) == 1:\n",
    "            print(\"Warning! Two or more points are the same!\")\n",
    "            g_0 = BlackScholesMerton(T, K, r, std_1, S_0, option_type) - option_price\n",
    "            g_1 = BlackScholesMerton(T, K, r, std_2, S_0, option_type) - option_price\n",
    "            new_std = std_2 - g_0*(std_2 - std_1)/(g_1 - g_0)\n",
    "        \n",
    "        #print(new_std)\n",
    "        if math.isinf(new_std) == False and math.isnan(new_std) == False:\n",
    "            std_0 = std_1\n",
    "            std_1 = std_2\n",
    "            std_2 = new_std\n",
    "        else:\n",
    "            #print(\"Number of iterations taken: \" + str(i))\n",
    "            #print(\"final std: \" + str(std_2))\n",
    "            return std_2\n",
    "    #print(\"Number of iterations taken: \" + str(i))\n",
    "    #print(\"final std: \" + str(new_std))\n",
    "    return new_std"
   ]
  },
  {
   "cell_type": "markdown",
   "metadata": {},
   "source": [
    "## Bisection method"
   ]
  },
  {
   "cell_type": "code",
   "execution_count": 8,
   "metadata": {},
   "outputs": [],
   "source": [
    "def impVolBisection(option_price, T, K, r, S_0, option_type, starting_sigma, iterations):\n",
    "    init_val = BlackScholesMerton(T, K, r, starting_sigma, S_0, option_type) - option_price\n",
    "    \n",
    "    #The initial value will either be our \"a\" or our \"b\" depending whether it is above or below the option price\n",
    "    #In rare cases the guess might be right on the money, so we need to account for that too.\n",
    "    if init_val < 0:\n",
    "        a = starting_sigma\n",
    "        b = 2*starting_sigma\n",
    "        while BlackScholesMerton(T, K, r, b, S_0, option_type) - option_price < 0:\n",
    "            a = b\n",
    "            b = 2*b\n",
    "            #print(\"Updated guess interval to (\" + str(a) + \", \" + str(b) + \")\")\n",
    "        \n",
    "    elif init_val > 0:\n",
    "        a = 0.5*starting_sigma\n",
    "        b = starting_sigma\n",
    "        while BlackScholesMerton(T, K, r, a, S_0, option_type) - option_price > 0:\n",
    "            b = a\n",
    "            a = 0.5*a\n",
    "            if b == 0:\n",
    "                #This case might in occur in the event of significant numerical instability\n",
    "                return 0\n",
    "            #print(\"Updated guess interval to (\" + str(a) + \", \" + str(b) + \")\")\n",
    "    else:\n",
    "        return starting_sigma\n",
    "    \n",
    "    #print(\"Setting initial guess interval to (\" + str(a) + \", \" + str(b) + \")\")\n",
    "    #Once our initial interval is set, it's time to do the iterations.\n",
    "    for i in range(iterations):\n",
    "        t = 0.5*(a+b)\n",
    "        g = BlackScholesMerton(T, K, r, t, S_0, option_type) - option_price\n",
    "        \n",
    "        if g < 0:\n",
    "            a = t\n",
    "        elif g > 0:\n",
    "            b = t\n",
    "        else:\n",
    "            return t\n",
    "        \n",
    "        #print(\"Guess after iteration \" + str(i) + \": \" + str(0.5*(a+b))) \n",
    "        \n",
    "    return 0.5*(a+b)"
   ]
  },
  {
   "cell_type": "markdown",
   "metadata": {},
   "source": [
    "## Newton-Bisection"
   ]
  },
  {
   "cell_type": "markdown",
   "metadata": {},
   "source": [
    "Try Newton's method, then switch to bisection method if Newton's method produces a \"bad\" step."
   ]
  },
  {
   "cell_type": "code",
   "execution_count": null,
   "metadata": {},
   "outputs": [],
   "source": [
    "def impVolNewtonBisection(option_price, T, K, r, S_0, option_type, starting_sigma, iterations):\n",
    "    #Attempt to use Newton's method iterations to find implied volatility.\n",
    "    #Switch to bisection method during moments of instability.\n",
    "    \n",
    "    #First, let's try and find a good guess for an interval that the implied volatility could lie in\n",
    "    init_val = BlackScholesMerton(T, K, r, starting_sigma, S_0, option_type) - option_price\n",
    "    \n",
    "    #The initial value will either be our \"a\" or our \"b\" depending whether it is above or below the option price\n",
    "    #In rare cases the guess might be right on the money, so we need to account for that too.\n",
    "    if init_val < 0:\n",
    "        a = starting_sigma\n",
    "        b = 2*starting_sigma\n",
    "        while BlackScholesMerton(T, K, r, b, S_0, option_type) - option_price < 0:\n",
    "            a = b\n",
    "            b = 2*b\n",
    "        \n",
    "    elif init_val > 0:\n",
    "        a = 0.5*starting_sigma\n",
    "        b = starting_sigma\n",
    "        while BlackScholesMerton(T, K, r, a, S_0, option_type) - option_price > 0:\n",
    "            b = a\n",
    "            a = 0.5*a\n",
    "    else:\n",
    "        return starting_sigma\n",
    "\n",
    "    #print(\"Setting initial guess interval to (\" + str(a) + \", \" + str(b) + \")\")\n",
    "    std = (a + b)/2\n",
    "    \n",
    "    mode = \"Newton\"\n",
    "    for i in range(iterations):\n",
    "        #Attempt to run a Newton's method step\n",
    "        #If the new guess does not lie in our interval, do a bisection method step instead\n",
    "        new_std = std - (BlackScholesMerton(T, K, r, std, S_0, option_type) - option_price)/vega(T, K, r, std, S_0)\n",
    "        if new_std <= b and a <= new_std:\n",
    "            #Accept the Newton's method step\n",
    "            std = new_std\n",
    "        else:\n",
    "            #Run a bisection method step instead\n",
    "            #print(\"Error with Newton! Trying Bisection instead.\")\n",
    "            t = 0.5*(a+b)\n",
    "            g = BlackScholesMerton(T, K, r, t, S_0, option_type) - option_price\n",
    "\n",
    "            if g < 0:\n",
    "                a = t\n",
    "            elif g > 0:\n",
    "                b = t\n",
    "            else:\n",
    "                #In the rare case our guess is on the money, return t immediately\n",
    "                return t\n",
    "\n",
    "            std = 0.5*(a+b)\n",
    "    \n",
    "    return std\n",
    "    "
   ]
  },
  {
   "cell_type": "markdown",
   "metadata": {},
   "source": [
    "# Gaussian Mixture"
   ]
  },
  {
   "cell_type": "markdown",
   "metadata": {},
   "source": [
    "Surprisingly, I could not find anything within numpy or scipy which could natively handle the Gaussian mixture distribution. Nonetheless, it is not *too* difficult to define CDF and PDF functions for this case."
   ]
  },
  {
   "cell_type": "code",
   "execution_count": 9,
   "metadata": {},
   "outputs": [],
   "source": [
    "def GaussianMixtureCDF(x, weights, means, volatilities):\n",
    "    top = x.reshape(-1,1) - means\n",
    "    argument = top/volatilities\n",
    "    return np.sum(weights*norm.cdf(argument),axis=1)"
   ]
  },
  {
   "cell_type": "code",
   "execution_count": 15,
   "metadata": {},
   "outputs": [],
   "source": [
    "def GaussianMixturePDF(x, weights, means, volatilities):\n",
    "    top = x.reshape(-1,1) - means\n",
    "    #print(top)\n",
    "    argument = top/volatilities\n",
    "    #print(argument)\n",
    "    return np.sum((weights/volatilities)*norm.pdf(argument),axis=1)"
   ]
  },
  {
   "cell_type": "markdown",
   "metadata": {},
   "source": [
    "This is for computing the PDF of a random variable $$X = exp(Y)$$ such that $$Y$$ is a Gaussian Mixture random variable with the given parameters."
   ]
  },
  {
   "cell_type": "code",
   "execution_count": 33,
   "metadata": {},
   "outputs": [],
   "source": [
    "def LogGaussianMixturePDF(x,weights,means,volatilities):\n",
    "    y = np.log(x)\n",
    "    top = y.reshape(-1,1) - means\n",
    "    #print(top)\n",
    "    argument = top/volatilities\n",
    "    #print(argument)\n",
    "    return np.sum(((weights/volatilities)/y.reshape(-1,1))*norm.pdf(argument),axis=1)"
   ]
  }
 ],
 "metadata": {
  "kernelspec": {
   "display_name": "Python 3 (ipykernel)",
   "language": "python",
   "name": "python3"
  },
  "language_info": {
   "codemirror_mode": {
    "name": "ipython",
    "version": 3
   },
   "file_extension": ".py",
   "mimetype": "text/x-python",
   "name": "python",
   "nbconvert_exporter": "python",
   "pygments_lexer": "ipython3",
   "version": "3.9.12"
  }
 },
 "nbformat": 4,
 "nbformat_minor": 4
}
